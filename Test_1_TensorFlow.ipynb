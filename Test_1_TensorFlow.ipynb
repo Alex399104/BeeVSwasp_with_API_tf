{
  "nbformat": 4,
  "nbformat_minor": 0,
  "metadata": {
    "colab": {
      "name": "Test_1_TensorFlow.ipynb",
      "provenance": [],
      "collapsed_sections": []
    },
    "kernelspec": {
      "name": "python3",
      "display_name": "Python 3"
    },
    "accelerator": "TPU"
  },
  "cells": [
    {
      "cell_type": "code",
      "metadata": {
        "colab": {
          "base_uri": "https://localhost:8080/"
        },
        "id": "TgdCxnE1JAwJ",
        "outputId": "b433cb5f-b614-46e0-dc9e-d31bed4a43bc"
      },
      "source": [
        "!wget /content/drive/MyDrive/beeVSwasp.zip"
      ],
      "execution_count": null,
      "outputs": [
        {
          "output_type": "stream",
          "text": [
            "/content/drive/MyDrive/beeVSwasp.zip: Scheme missing.\n"
          ],
          "name": "stdout"
        }
      ]
    },
    {
      "cell_type": "code",
      "metadata": {
        "id": "7JOXvVpWKKxN"
      },
      "source": [
        "import zipfile\n",
        "import tensorflow as tf\n",
        "from google.colab import files\n",
        "from tensorflow.keras.models import Sequential\n",
        "from tensorflow.keras.layers import Conv2D, MaxPooling2D, Dense, Flatten, Dropout\n",
        "from tensorflow.keras.preprocessing import image_dataset_from_directory"
      ],
      "execution_count": null,
      "outputs": []
    },
    {
      "cell_type": "code",
      "metadata": {
        "id": "KE93IckMKZGy"
      },
      "source": [
        "zipFile = zipfile.ZipFile('/content/drive/MyDrive/beeVSwasp.zip', 'r')\n",
        "zipFile.extractall('beeVSwasp')\n",
        "zipFile.close()"
      ],
      "execution_count": null,
      "outputs": []
    },
    {
      "cell_type": "code",
      "metadata": {
        "colab": {
          "base_uri": "https://localhost:8080/"
        },
        "id": "U7n8hITBL0Wj",
        "outputId": "15694476-e326-4d0d-9135-718c6647ebc3"
      },
      "source": [
        "batch_size=256\n",
        "image_size=(200, 100)\n",
        "train_dataset = image_dataset_from_directory('beeVSwasp', label_mode='binary', seed=42, \n",
        "                                       subset='training',\n",
        "                                       validation_split=0.2, \n",
        "                                       batch_size=batch_size, \n",
        "                                       image_size=image_size)\n",
        "\n",
        "validation_dataset = image_dataset_from_directory('beeVSwasp', label_mode='binary', seed=42,\n",
        "                                             subset='validation',\n",
        "                                             validation_split=0.2,\n",
        "                                             batch_size=batch_size,\n",
        "                                             image_size=image_size)\n",
        "\n",
        "AUTOTUNE = tf.data.experimental.AUTOTUNE\n",
        "\n",
        "train_dataset = train_dataset.prefetch(buffer_size=AUTOTUNE)\n",
        "validation_dataset = validation_dataset.prefetch(buffer_size=AUTOTUNE)                                     "
      ],
      "execution_count": null,
      "outputs": [
        {
          "output_type": "stream",
          "text": [
            "Found 4596 files belonging to 2 classes.\n",
            "Using 3677 files for training.\n",
            "Found 4596 files belonging to 2 classes.\n",
            "Using 919 files for validation.\n"
          ],
          "name": "stdout"
        }
      ]
    },
    {
      "cell_type": "code",
      "metadata": {
        "id": "mUSd_VKJOyen",
        "colab": {
          "base_uri": "https://localhost:8080/"
        },
        "outputId": "577b1a9a-6e6f-44a8-dd92-8353dc70f9aa"
      },
      "source": [
        "# Создаем последовательную модель\n",
        "model = Sequential()\n",
        "# Сверточный слой\n",
        "model.add(Conv2D(16, (5, 5), padding='same', \n",
        "                 input_shape=(200, 100, 3), activation='relu'))\n",
        "# Слой подвыборки\n",
        "model.add(MaxPooling2D(pool_size=(2, 2)))\n",
        "# Сверточный слой\n",
        "model.add(Conv2D(32, (5, 5), activation='relu', padding='same'))\n",
        "# Слой подвыборки\n",
        "model.add(MaxPooling2D(pool_size=(2, 2)))\n",
        "# Сверточный слой\n",
        "model.add(Conv2D(64, (5, 5), activation='relu', padding='same'))\n",
        "# Слой подвыборки\n",
        "model.add(MaxPooling2D(pool_size=(2, 2)))\n",
        "# Сверточный слой\n",
        "model.add(Conv2D(128, (5, 5), activation='relu', padding='same'))\n",
        "# Слой подвыборки\n",
        "model.add(MaxPooling2D(pool_size=(2, 2)))\n",
        "# Полносвязная часть нейронной сети для классификации\n",
        "model.add(Flatten())\n",
        "model.add(Dense(1024, activation='relu'))\n",
        "model.add(Dropout(0.2))\n",
        "model.add(Dense(256, activation='relu'))\n",
        "model.add(Dropout(0.2))\n",
        "# Выходной слой, 2 нейрон по количеству классов\n",
        "model.add(Dense(2, activation='softmax'))\n",
        "# Компилируем модель\n",
        "model.compile(loss='sparse_categorical_crossentropy',\n",
        "              optimizer=\"adam\",\n",
        "              metrics=['accuracy'])\n",
        "# Обучаем модель\n",
        "history = model.fit(train_dataset,\n",
        "                    validation_data=validation_dataset,\n",
        "                    epochs=5,\n",
        "                    verbose=1)"
      ],
      "execution_count": null,
      "outputs": [
        {
          "output_type": "stream",
          "text": [
            "Epoch 1/5\n",
            "15/15 [==============================] - 257s 17s/step - loss: 145.0553 - accuracy: 0.5068 - val_loss: 0.6377 - val_accuracy: 0.6681\n",
            "Epoch 2/5\n",
            "15/15 [==============================] - 254s 17s/step - loss: 0.6606 - accuracy: 0.5958 - val_loss: 0.6634 - val_accuracy: 0.5267\n",
            "Epoch 3/5\n",
            "15/15 [==============================] - 258s 17s/step - loss: 0.6470 - accuracy: 0.5773 - val_loss: 0.6085 - val_accuracy: 0.6616\n",
            "Epoch 4/5\n",
            "15/15 [==============================] - 252s 17s/step - loss: 0.6043 - accuracy: 0.6564 - val_loss: 0.6010 - val_accuracy: 0.6812\n",
            "Epoch 5/5\n",
            "15/15 [==============================] - 254s 17s/step - loss: 0.5662 - accuracy: 0.7039 - val_loss: 0.5702 - val_accuracy: 0.7127\n"
          ],
          "name": "stdout"
        }
      ]
    },
    {
      "cell_type": "code",
      "metadata": {
        "id": "f6yMLv8CTLkq"
      },
      "source": [
        "model.save(\"beeVSwasp.h5\")"
      ],
      "execution_count": null,
      "outputs": []
    },
    {
      "cell_type": "code",
      "metadata": {
        "colab": {
          "base_uri": "https://localhost:8080/",
          "height": 16
        },
        "id": "xQBw-KRXTR2l",
        "outputId": "f9e5d0f7-6909-4a8b-82ad-cf9290db3fc9"
      },
      "source": [
        "files.download(\"beeVSwasp.h5\")"
      ],
      "execution_count": null,
      "outputs": [
        {
          "output_type": "display_data",
          "data": {
            "application/javascript": [
              "\n",
              "    async function download(id, filename, size) {\n",
              "      if (!google.colab.kernel.accessAllowed) {\n",
              "        return;\n",
              "      }\n",
              "      const div = document.createElement('div');\n",
              "      const label = document.createElement('label');\n",
              "      label.textContent = `Downloading \"${filename}\": `;\n",
              "      div.appendChild(label);\n",
              "      const progress = document.createElement('progress');\n",
              "      progress.max = size;\n",
              "      div.appendChild(progress);\n",
              "      document.body.appendChild(div);\n",
              "\n",
              "      const buffers = [];\n",
              "      let downloaded = 0;\n",
              "\n",
              "      const channel = await google.colab.kernel.comms.open(id);\n",
              "      // Send a message to notify the kernel that we're ready.\n",
              "      channel.send({})\n",
              "\n",
              "      for await (const message of channel.messages) {\n",
              "        // Send a message to notify the kernel that we're ready.\n",
              "        channel.send({})\n",
              "        if (message.buffers) {\n",
              "          for (const buffer of message.buffers) {\n",
              "            buffers.push(buffer);\n",
              "            downloaded += buffer.byteLength;\n",
              "            progress.value = downloaded;\n",
              "          }\n",
              "        }\n",
              "      }\n",
              "      const blob = new Blob(buffers, {type: 'application/binary'});\n",
              "      const a = document.createElement('a');\n",
              "      a.href = window.URL.createObjectURL(blob);\n",
              "      a.download = filename;\n",
              "      div.appendChild(a);\n",
              "      a.click();\n",
              "      div.remove();\n",
              "    }\n",
              "  "
            ],
            "text/plain": [
              "<IPython.core.display.Javascript object>"
            ]
          },
          "metadata": {
            "tags": []
          }
        },
        {
          "output_type": "display_data",
          "data": {
            "application/javascript": [
              "download(\"download_23e95e8d-2d12-4d6e-bc04-e22718f6cfcc\", \"beeVSwasp.h5\", 119770680)"
            ],
            "text/plain": [
              "<IPython.core.display.Javascript object>"
            ]
          },
          "metadata": {
            "tags": []
          }
        }
      ]
    }
  ]
}